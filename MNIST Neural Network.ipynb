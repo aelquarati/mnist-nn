{
 "cells": [
  {
   "cell_type": "code",
   "execution_count": 1,
   "metadata": {},
   "outputs": [],
   "source": [
    "from keras.datasets import mnist\n",
    "import numpy as np\n",
    "from keras.utils import np_utils\n",
    "import matplotlib.pyplot as plt"
   ]
  },
  {
   "cell_type": "code",
   "execution_count": 3,
   "metadata": {},
   "outputs": [],
   "source": [
    "(X_train, y_train), (X_test, y_test) = mnist.load_data()"
   ]
  },
  {
   "cell_type": "code",
   "execution_count": 4,
   "metadata": {},
   "outputs": [
    {
     "data": {
      "image/png": "[encoded data removed]",
      "text/plain": [
       "<Figure size 864x432 with 10 Axes>"
      ]
     },
     "metadata": {
      "needs_background": "light"
     },
     "output_type": "display_data"
    }
   ],
   "source": [
    "fig = plt.figure(figsize=(12,6))\n",
    "for i in range(10):\n",
    "    fig.add_subplot(2,5,i+1)\n",
    "    plt.tight_layout()\n",
    "    plt.imshow(X_train[i+10], interpolation='none', cmap='Blues')\n",
    "    plt.title(\"Number: %i\" %int(y_train[i+10]))\n",
    "plt.show()"
   ]
  },
  {
   "cell_type": "code",
   "execution_count": 5,
   "metadata": {},
   "outputs": [
    {
     "name": "stdout",
     "output_type": "stream",
     "text": [
      "X_train shape before reshaping :  (60000, 28, 28)\n",
      "X_test shape before reshaping :  (10000, 28, 28)\n",
      "X_train shape after reshaping :  (60000, 784)\n",
      "X_test shape after reshaping :  (10000, 784)\n"
     ]
    }
   ],
   "source": [
    "# Shapes before reshaping\n",
    "\n",
    "print(\"X_train shape before reshaping : \", X_train.shape)\n",
    "print(\"X_test shape before reshaping : \", X_test.shape)\n",
    "\n",
    "# Shapes after after reshaping\n",
    "\n",
    "X_train = X_train.reshape(60000, 28*28)\n",
    "X_test = X_test.reshape(10000, 28*28)\n",
    "\n",
    "\n",
    "print(\"X_train shape after reshaping : \", X_train.shape)\n",
    "print(\"X_test shape after reshaping : \", X_test.shape)\n",
    "\n",
    "X_train = X_train.astype('float32')\n",
    "X_test = X_test.astype('float32')"
   ]
  },
  {
   "cell_type": "code",
   "execution_count": 6,
   "metadata": {},
   "outputs": [
    {
     "name": "stdout",
     "output_type": "stream",
     "text": [
      "y_train shape before : (60000,)\n",
      "y_train shape after : (60000, 10)\n"
     ]
    }
   ],
   "source": [
    "# One hot encoding to change the data:\n",
    "# We'll have a matrix with 60000 row (number of images) x 10 (number of digits)\n",
    "# Each row will contain zeros and a one at the index corresponding to the integer represented by the image\n",
    "\n",
    "print(\"y_train shape before :\", y_train.shape)\n",
    "digits = 10\n",
    "y_train = np_utils.to_categorical(y_train, digits)\n",
    "y_test = np_utils.to_categorical(y_test, digits)\n",
    "print(\"y_train shape after :\", y_train.shape)"
   ]
  },
  {
   "cell_type": "code",
   "execution_count": 7,
   "metadata": {},
   "outputs": [],
   "source": [
    "### NEURAL NETWORK FROM SCRATCH"
   ]
  },
  {
   "cell_type": "code",
   "execution_count": 8,
   "metadata": {},
   "outputs": [],
   "source": [
    "def sigmoid(z):\n",
    "    \"Sigmoid Function\"\n",
    "    \n",
    "    s = 1 / (1 + np.exp(-z))\n",
    "    return s"
   ]
  },
  {
   "cell_type": "code",
   "execution_count": 9,
   "metadata": {},
   "outputs": [],
   "source": [
    "def cost(y, y_hat):\n",
    "    \"Loss Computation or Cost Function\"\n",
    "   \n",
    "    m = y.shape[0]\n",
    "    \n",
    "    L = np.sum(- y * np.log(y_hat) - (1 - y) * np.log(1 - y_hat)) / m\n",
    "   \n",
    "    return L"
   ]
  },
  {
   "cell_type": "code",
   "execution_count": 24,
   "metadata": {},
   "outputs": [
    {
     "name": "stderr",
     "output_type": "stream",
     "text": [
      "<ipython-input-8-5a7993d2bb06>:4: RuntimeWarning: overflow encountered in exp\n",
      "  s = 1 / (1 + np.exp(-z))\n",
      "<ipython-input-9-6ad184748d54>:6: RuntimeWarning: divide by zero encountered in log\n",
      "  L = np.sum(- y * np.log(y_hat) - (1 - y) * np.log(1 - y_hat)) / m\n",
      "<ipython-input-9-6ad184748d54>:6: RuntimeWarning: invalid value encountered in multiply\n",
      "  L = np.sum(- y * np.log(y_hat) - (1 - y) * np.log(1 - y_hat)) / m\n"
     ]
    },
    {
     "name": "stdout",
     "output_type": "stream",
     "text": [
      "Final cost: <function cost at 0x00000174574A0D30>\n"
     ]
    }
   ],
   "source": [
    "\"\"\"Neural Network\"\"\"\n",
    "\n",
    "digits = 10\n",
    "n_x = X_train.shape[1]\n",
    "n_units = 256\n",
    "learning_rate = 0.1\n",
    "m = X_train.shape[0]\n",
    "\n",
    "\"\"\"Initializing The Parameters\"\"\"\n",
    "\n",
    "W1 = np.random.randn(n_units, n_x)\n",
    "b1 = np.zeros((n_units, 1))\n",
    "W2 = np.random.randn(digits, n_units)\n",
    "b2 = np.zeros((digits, 1))\n",
    "\n",
    "X = X_train\n",
    "y = y_train.T\n",
    "\n",
    "for i in range(0, 2000):\n",
    "    \n",
    "    Z1 = np.matmul(W1,X.T) + b1\n",
    "    A1 = sigmoid(Z1)\n",
    "    Z2 = np.matmul(W2,A1) + b2\n",
    "    A2 = sigmoid(Z2) # A2 = Y_hat (predictions)\n",
    "\n",
    "    costi = cost(y, A2)\n",
    "    \n",
    "    dZ2 = A2-y\n",
    "    dW2 = (1./m) * np.matmul(dZ2, A1.T)\n",
    "    db2 = (1./m) * np.sum(dZ2, axis=1, keepdims=True)\n",
    "\n",
    "    dA1 = np.matmul(W2.T, dZ2)\n",
    "    dZ1 = dA1 * (sigmoid(Z1) * (1 - sigmoid(Z1)))\n",
    "    dW1 = (1./m) * np.matmul(dZ1, X)\n",
    "    db1 = (1./m) * np.sum(dZ1, axis=1, keepdims=True)\n",
    "\n",
    "    W2 = W2 - learning_rate * dW2\n",
    "    b2 = b2 - learning_rate * db2\n",
    "    W1 = W1 - learning_rate * dW1\n",
    "    b1 = b1 - learning_rate * db1\n",
    "\n",
    "print(\"Final cost:\", cost)"
   ]
  },
  {
   "cell_type": "code",
   "execution_count": 25,
   "metadata": {},
   "outputs": [
    {
     "data": {
      "text/plain": [
       "9308.968999533929"
      ]
     },
     "execution_count": 25,
     "metadata": {},
     "output_type": "execute_result"
    }
   ],
   "source": [
    "costi"
   ]
  },
  {
   "cell_type": "code",
   "execution_count": 26,
   "metadata": {},
   "outputs": [
    {
     "name": "stdout",
     "output_type": "stream",
     "text": [
      "[7 2 1 ... 4 5 6]\n",
      "[7 2 1 ... 4 5 6]\n"
     ]
    },
    {
     "name": "stderr",
     "output_type": "stream",
     "text": [
      "<ipython-input-8-5a7993d2bb06>:4: RuntimeWarning: overflow encountered in exp\n",
      "  s = 1 / (1 + np.exp(-z))\n"
     ]
    }
   ],
   "source": [
    "# Now we use the learned parameters to run the network over the test set\n",
    "\n",
    "Z1 = np.matmul(W1, X_test.T) + b1\n",
    "A1 = sigmoid(Z1)\n",
    "Z2 = np.matmul(W2, A1) + b2\n",
    "A2 = sigmoid(Z2)\n",
    "\n",
    "predictions = np.argmax(A2, axis = 0)\n",
    "labels = np.argmax(y_test, axis = 1)\n",
    "\n",
    "print(predictions)\n",
    "print(labels)"
   ]
  },
  {
   "cell_type": "code",
   "execution_count": 27,
   "metadata": {},
   "outputs": [
    {
     "name": "stdout",
     "output_type": "stream",
     "text": [
      "\t\t Confusion Matrix \n",
      "\n",
      "[[ 870    0   20   24    3   53   26   10   18   21]\n",
      " [   0 1066   15    8    7    9    2   23   12    4]\n",
      " [  15    9  784   25   16   13   24   23   24   13]\n",
      " [   8   19   49  790    9   69    4   22   46   23]\n",
      " [   1    4   26    9  771   22   35   19   16  108]\n",
      " [  42    5   10   58   13  597   20    6   58   26]\n",
      " [  18    4   28    9   27   17  818    4   23    3]\n",
      " [  10    2   25   24   12   28    6  846   24   52]\n",
      " [  12   25   58   44   25   68   17   18  712   37]\n",
      " [   4    1   17   19   99   16    6   57   41  722]]\n",
      "\n",
      "\t\t Metrics \n",
      "\n",
      "              precision    recall  f1-score   support\n",
      "\n",
      "           0       0.89      0.83      0.86      1045\n",
      "           1       0.94      0.93      0.93      1146\n",
      "           2       0.76      0.83      0.79       946\n",
      "           3       0.78      0.76      0.77      1039\n",
      "           4       0.79      0.76      0.77      1011\n",
      "           5       0.67      0.71      0.69       835\n",
      "           6       0.85      0.86      0.86       951\n",
      "           7       0.82      0.82      0.82      1029\n",
      "           8       0.73      0.70      0.72      1016\n",
      "           9       0.72      0.74      0.73       982\n",
      "\n",
      "    accuracy                           0.80     10000\n",
      "   macro avg       0.79      0.79      0.79     10000\n",
      "weighted avg       0.80      0.80      0.80     10000\n",
      "\n"
     ]
    }
   ],
   "source": [
    "from sklearn.metrics import classification_report, confusion_matrix\n",
    "print(\"\\t\\t Confusion Matrix \\n\")\n",
    "print(confusion_matrix(predictions, labels))\n",
    "print()\n",
    "print(\"\\t\\t Metrics \\n\")\n",
    "print(classification_report(predictions, labels))"
   ]
  },
  {
   "cell_type": "code",
   "execution_count": 14,
   "metadata": {},
   "outputs": [],
   "source": [
    "## Neural Network using Keras"
   ]
  },
  {
   "cell_type": "code",
   "execution_count": 15,
   "metadata": {},
   "outputs": [],
   "source": [
    "from keras.models import Sequential, load_model\n",
    "from keras.layers.core import Dense, Activation"
   ]
  },
  {
   "cell_type": "code",
   "execution_count": 16,
   "metadata": {},
   "outputs": [],
   "source": [
    "model = Sequential()\n",
    "model.add(Dense(units = 128, input_shape = (784,) , activation = 'relu'))\n",
    "model.add(Dense(units = 64, activation = 'relu'))\n",
    "model.add(Dense(units = 10, activation = 'softmax'))"
   ]
  },
  {
   "cell_type": "code",
   "execution_count": 17,
   "metadata": {},
   "outputs": [],
   "source": [
    "model.compile(loss = 'categorical_crossentropy', metrics = ['accuracy'], optimizer = 'adam')"
   ]
  },
  {
   "cell_type": "code",
   "execution_count": 18,
   "metadata": {
    "scrolled": true
   },
   "outputs": [
    {
     "name": "stdout",
     "output_type": "stream",
     "text": [
      "Epoch 1/10\n",
      "6000/6000 [==============================] - 11s 2ms/step - loss: 1.1918 - accuracy: 0.8462\n",
      "Epoch 2/10\n",
      "6000/6000 [==============================] - 11s 2ms/step - loss: 0.2740 - accuracy: 0.9310\n",
      "Epoch 3/10\n",
      "6000/6000 [==============================] - 12s 2ms/step - loss: 0.2067 - accuracy: 0.9503\n",
      "Epoch 4/10\n",
      "6000/6000 [==============================] - 12s 2ms/step - loss: 0.1855 - accuracy: 0.9575\n",
      "Epoch 5/10\n",
      "6000/6000 [==============================] - 12s 2ms/step - loss: 0.1712 - accuracy: 0.9603\n",
      "Epoch 6/10\n",
      "6000/6000 [==============================] - 12s 2ms/step - loss: 0.1608 - accuracy: 0.9628\n",
      "Epoch 7/10\n",
      "6000/6000 [==============================] - 12s 2ms/step - loss: 0.1624 - accuracy: 0.9631\n",
      "Epoch 8/10\n",
      "6000/6000 [==============================] - 12s 2ms/step - loss: 0.1572 - accuracy: 0.9651\n",
      "Epoch 9/10\n",
      "6000/6000 [==============================] - 20s 3ms/step - loss: 0.1493 - accuracy: 0.9665\n",
      "Epoch 10/10\n",
      "6000/6000 [==============================] - 22s 4ms/step - loss: 0.1460 - accuracy: 0.9672\n"
     ]
    },
    {
     "data": {
      "text/plain": [
       "<tensorflow.python.keras.callbacks.History at 0x1740325a1f0>"
      ]
     },
     "execution_count": 18,
     "metadata": {},
     "output_type": "execute_result"
    }
   ],
   "source": [
    "model.fit(X_train, y_train, batch_size = 10, epochs = 10)"
   ]
  },
  {
   "cell_type": "code",
   "execution_count": 19,
   "metadata": {},
   "outputs": [
    {
     "name": "stdout",
     "output_type": "stream",
     "text": [
      "\t\t Confusion Matrix \n",
      "\n",
      "[[ 972    1    0    1    1    0    0    1    4    0]\n",
      " [   0 1101    4    1    0    1    1    2   25    0]\n",
      " [   3    0 1003    1    2    0    1    4   18    0]\n",
      " [   0    0    8  960    0    8    0    1   32    1]\n",
      " [   0    2    3    0  939    0    3    3    8   24]\n",
      " [   5    0    0    8    1  848    4    0   22    4]\n",
      " [   4    3    0    0    2    6  926    0   17    0]\n",
      " [   2    2   14    6    9    0    0  980   10    5]\n",
      " [   0    0   10    3    4    6    1    2  945    3]\n",
      " [   3    0    0    5   11    0    0    7   21  962]] \n",
      "\n",
      "\t\t Metrics \n",
      "\n",
      "              precision    recall  f1-score   support\n",
      "\n",
      "           0       0.99      0.98      0.99       989\n",
      "           1       0.97      0.99      0.98      1109\n",
      "           2       0.97      0.96      0.97      1042\n",
      "           3       0.95      0.97      0.96       985\n",
      "           4       0.96      0.97      0.96       969\n",
      "           5       0.95      0.98      0.96       869\n",
      "           6       0.97      0.99      0.98       936\n",
      "           7       0.95      0.98      0.97      1000\n",
      "           8       0.97      0.86      0.91      1102\n",
      "           9       0.95      0.96      0.96       999\n",
      "\n",
      "    accuracy                           0.96     10000\n",
      "   macro avg       0.96      0.96      0.96     10000\n",
      "weighted avg       0.96      0.96      0.96     10000\n",
      "\n"
     ]
    }
   ],
   "source": [
    "y_pred = model.predict(X_test)\n",
    "matrix = confusion_matrix(y_test.argmax(axis=1), y_pred.argmax(axis=1))\n",
    "metrics = classification_report(y_pred.argmax(axis=1), y_test.argmax(axis=1))\n",
    "\n",
    "print('\\t\\t Confusion Matrix \\n')\n",
    "print(matrix, '\\n')\n",
    "print('\\t\\t Metrics \\n')\n",
    "print(metrics)"
   ]
  }
 ],
 "metadata": {
  "kernelspec": {
   "display_name": "projects_env_py3.8",
   "language": "python",
   "name": "projects_env_py3.8"
  },
  "language_info": {
   "codemirror_mode": {
    "name": "ipython",
    "version": 3
   },
   "file_extension": ".py",
   "mimetype": "text/x-python",
   "name": "python",
   "nbconvert_exporter": "python",
   "pygments_lexer": "ipython3",
   "version": "3.8.5"
  }
 },
 "nbformat": 4,
 "nbformat_minor": 4
}
